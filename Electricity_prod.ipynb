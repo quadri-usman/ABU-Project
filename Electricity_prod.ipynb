{
  "nbformat": 4,
  "nbformat_minor": 0,
  "metadata": {
    "colab": {
      "provenance": [],
      "authorship_tag": "ABX9TyOhMIE95kiB2abC9hEEMDAZ",
      "include_colab_link": true
    },
    "kernelspec": {
      "name": "python3",
      "display_name": "Python 3"
    },
    "language_info": {
      "name": "python"
    }
  },
  "cells": [
    {
      "cell_type": "markdown",
      "metadata": {
        "id": "view-in-github",
        "colab_type": "text"
      },
      "source": [
        "<a href=\"https://colab.research.google.com/github/quadri-usman/ABU-Project/blob/main/Electricity_prod.ipynb\" target=\"_parent\"><img src=\"https://colab.research.google.com/assets/colab-badge.svg\" alt=\"Open In Colab\"/></a>"
      ]
    },
    {
      "cell_type": "code",
      "execution_count": 1,
      "metadata": {
        "colab": {
          "base_uri": "https://localhost:8080/"
        },
        "id": "LtP94e14QmSf",
        "outputId": "e4cc2f3a-011e-42c9-9063-d3d17443474d"
      },
      "outputs": [
        {
          "output_type": "stream",
          "name": "stdout",
          "text": [
            "Optimal Solution Found\n",
            "x1 = 12.00, x2 = 10.00\n",
            "Maximum z = -22.00\n"
          ]
        }
      ],
      "source": [
        "from scipy.optimize import linprog\n",
        "c = [-1,-1]\n",
        "A = [[2/3, 1], [-2,-1], [1,0], [0,1]]\n",
        "b= [18, -8, 12, 16]\n",
        "x_bounds = [(0, None), (0, None)]\n",
        "result = linprog(c, A_ub=A, b_ub=b, bounds=x_bounds, method='highs')\n",
        "if result.success:\n",
        "  print(\"Optimal Solution Found\")\n",
        "  print(f\"x1 = {result.x[0]:.2f}, x2 = {result.x[1]:.2f}\")\n",
        "  print(f\"Maximum z = {result.fun:.2f}\")\n",
        "else:\n",
        "  print(\"No Optimal Solution Found\")\n",
        ""
      ]
    },
    {
      "cell_type": "code",
      "source": [
        "import cvxpy as cp\n",
        "#Defining the variables\n",
        "x1 = cp.Variable()\n",
        "x2 = cp.Variable()\n",
        "#Defining the Objective\n",
        "objective = cp.Maximize(x1 + x2)\n",
        "#Defining the constraints\n",
        "constraints = [\n",
        "    (2/3)*x1 + x2 <= 18,\n",
        "    -2*x1 - x2 <= -8,\n",
        "    x1 <= 12,\n",
        "    x2 <= 16,\n",
        "    x1>=0,\n",
        "    x2>=0\n",
        "]\n",
        "#Formulate the problem\n",
        "problem = cp.Problem(objective, constraints)\n",
        "#Solve the problem\n",
        "problem.solve()\n",
        "#Output the result\n",
        "if problem.status == cp.OPTIMAL:\n",
        "  print(\"Optimal result found\")\n",
        "  print(f\"x1 = {x1.value:.2f}\")\n",
        "  print(f\"x2 = {x2.value:.2f}\")\n",
        "  print(f\"Maximum z = {problem.value:.2f}\")\n",
        "else:\n",
        "  print(\"No optimal reuslt found\")\n"
      ],
      "metadata": {
        "colab": {
          "base_uri": "https://localhost:8080/"
        },
        "id": "cZk40rZtlgst",
        "outputId": "6825622a-1ccb-403e-ebe7-936dcf4c9ae5"
      },
      "execution_count": 17,
      "outputs": [
        {
          "output_type": "stream",
          "name": "stdout",
          "text": [
            "Optimal result found\n",
            "x1 = 12.00\n",
            "x2 = 10.00\n",
            "Maximum z = 22.00\n"
          ]
        }
      ]
    },
    {
      "cell_type": "code",
      "source": [
        "import cvxpy as cp\n",
        "#Defning the varibale\n",
        "x1 = cp.Variable()\n",
        "x2 = cp.Variable()\n",
        "theta1 = cp.Variable()\n",
        "theta2 = cp.Variable()\n",
        "\n",
        "#Defning the objective\n",
        "objective = cp.Minimize(x1 + 2*x2)\n",
        "\n",
        "#Defning the constraints\n",
        "constraints = [\n",
        "    x1 == (theta1 - theta2)+ (theta1),\n",
        "    x2 == (theta2 - theta1)+ (theta2),\n",
        "    10 == theta1 + theta2,\n",
        "    x1 <= 6,\n",
        "    x2 <= 8,\n",
        "    x1>=0,\n",
        "    x2>=0\n",
        "]\n",
        "\n",
        "#Formulate the problem\n",
        "problem = cp.Problem(objective, constraints)\n",
        "#Solve the problem\n",
        "problem.solve()\n",
        "#Output the result\n",
        "if problem.status == cp.OPTIMAL:\n",
        "  print(\"Optimal results found\")\n",
        "  print(f\"x1 (cheap unit) = {x1.value:.2f}\")\n",
        "  print(f\"x2 (expensive unit)= {x2.value:.2f}\")\n",
        "  print(f\"theta1 = {theta1.value:.2f}\")\n",
        "  print(f\"theta2 = {theta2.value:.2f}\")\n",
        "  print(f\"z = {problem.value:.2f}\")"
      ],
      "metadata": {
        "colab": {
          "base_uri": "https://localhost:8080/"
        },
        "id": "LLszntTxpKQr",
        "outputId": "e4e78dfc-e4bd-4b0a-ac75-b1dfdafeb5eb"
      },
      "execution_count": 18,
      "outputs": [
        {
          "output_type": "stream",
          "name": "stdout",
          "text": [
            "Optimal results found\n",
            "x1 (cheap unit) = 6.00\n",
            "x2 (expensive unit)= 4.00\n",
            "theta1 = 5.33\n",
            "theta2 = 4.67\n",
            "z = 14.00\n"
          ]
        }
      ]
    },
    {
      "cell_type": "code",
      "source": [
        "import cvxpy as cp\n",
        "#Defining the variables\n",
        "x1 = cp.Variable()\n",
        "x2 = cp.Variable()\n",
        "\n",
        "#Defining the objective\n",
        "objective = cp.Maximize(x1 + x2)\n",
        "\n",
        "#Defining the constraints\n",
        "constraints = [\n",
        "    (2/3)*x1 + x2 <= 18,\n",
        "    -2*x1 - x2 <= -8,\n",
        "    x1 <= 12,\n",
        "    x2 <= 16,\n",
        "    x1>=0,\n",
        "    x2>=0\n",
        "]\n",
        "\n",
        "#Formulate the problem\n",
        "problem = cp.Problem(objective, constraints)\n",
        "#Solve the problem\n",
        "problem.solve()\n",
        "\n",
        "#Output the result\n",
        "if problem.status == cp.OPTIMAL:\n",
        "  print(\"Optimal reuslt found\")\n",
        "  print(f\"x1 = {x1.value:.2f}\")\n",
        "  print(f\"x2 = {x2.value:.2f}\")\n",
        "  print(f\"Maximum z = {problem.value:.2f}\")"
      ],
      "metadata": {
        "colab": {
          "base_uri": "https://localhost:8080/"
        },
        "id": "r5GstLRBu4e2",
        "outputId": "47debc81-cfa0-414a-a11a-e96cb0de5522"
      },
      "execution_count": 22,
      "outputs": [
        {
          "output_type": "stream",
          "name": "stdout",
          "text": [
            "Optimal reuslt found\n",
            "x1 = 12.00\n",
            "x2 = 10.00\n",
            "Maximum z = 22.00\n"
          ]
        }
      ]
    }
  ]
}